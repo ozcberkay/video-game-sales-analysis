{
 "cells": [
  {
   "cell_type": "code",
   "execution_count": null,
   "metadata": {
    "collapsed": true
   },
   "outputs": [],
   "source": [
    "import pandas as pd\n",
    "import matplotlib.pyplot as plt\n",
    "import missingno as mn\n",
    "from sklearn.metrics import r2_score\n",
    "from sklearn.model_selection import train_test_split\n",
    "from sklearn.linear_model import LinearRegression\n",
    "from sklearn.preprocessing import PolynomialFeatures"
   ]
  },
  {
   "cell_type": "code",
   "execution_count": null,
   "outputs": [],
   "source": [
    "# disable truncating\n",
    "pd.set_option('display.max_columns', None)\n",
    "\n",
    "# import data\n",
    "df = pd.read_csv('data/vgsales.csv')"
   ],
   "metadata": {
    "collapsed": false,
    "pycharm": {
     "name": "#%%\n"
    }
   }
  },
  {
   "cell_type": "code",
   "execution_count": null,
   "outputs": [],
   "source": [
    "df.shape"
   ],
   "metadata": {
    "collapsed": false,
    "pycharm": {
     "name": "#%%\n"
    }
   }
  },
  {
   "cell_type": "code",
   "execution_count": null,
   "outputs": [],
   "source": [
    "df.info()"
   ],
   "metadata": {
    "collapsed": false,
    "pycharm": {
     "name": "#%%\n"
    }
   }
  },
  {
   "cell_type": "code",
   "execution_count": null,
   "outputs": [],
   "source": [
    "df.head()"
   ],
   "metadata": {
    "collapsed": false,
    "pycharm": {
     "name": "#%%\n"
    }
   }
  },
  {
   "cell_type": "code",
   "execution_count": null,
   "outputs": [],
   "source": [
    "df.describe()"
   ],
   "metadata": {
    "collapsed": false,
    "pycharm": {
     "name": "#%%\n"
    }
   }
  },
  {
   "cell_type": "code",
   "execution_count": null,
   "outputs": [],
   "source": [
    "#missing matrix\n",
    "mn.matrix(df)"
   ],
   "metadata": {
    "collapsed": false,
    "pycharm": {
     "name": "#%%\n"
    }
   }
  },
  {
   "cell_type": "code",
   "execution_count": null,
   "outputs": [],
   "source": [
    "df.shape"
   ],
   "metadata": {
    "collapsed": false,
    "pycharm": {
     "name": "#%%\n"
    }
   }
  },
  {
   "cell_type": "code",
   "execution_count": null,
   "outputs": [],
   "source": [
    "#missing columns\n",
    "df.isnull().any()"
   ],
   "metadata": {
    "collapsed": false,
    "pycharm": {
     "name": "#%%\n"
    }
   }
  },
  {
   "cell_type": "code",
   "execution_count": null,
   "outputs": [],
   "source": [
    "# drop missing rows\n",
    "df = df.dropna()\n",
    "df.isnull().any()"
   ],
   "metadata": {
    "collapsed": false,
    "pycharm": {
     "name": "#%%\n"
    }
   }
  },
  {
   "cell_type": "code",
   "execution_count": null,
   "outputs": [],
   "source": [
    "# most sold games\n",
    "df_game = df.sort_values('Global_Sales',ascending=False)\n",
    "df_game = df_game.head(20)\n",
    "plot = df_game.plot(x='Name',\n",
    "                    y='Global_Sales',\n",
    "                    kind='bar',\n",
    "                    title = \"Yıllara Göre En Çok Satan Oyunlar\",\n",
    "                    xlabel = \"Oyun İsmi\",\n",
    "                    ylabel= \"Küresel Satış\"\n",
    "                    )\n",
    "plot"
   ],
   "metadata": {
    "collapsed": false,
    "pycharm": {
     "name": "#%%\n"
    }
   }
  },
  {
   "cell_type": "code",
   "execution_count": null,
   "outputs": [],
   "source": [
    "# year - global sales\n",
    "year_df = df.groupby('Year').sum()\n",
    "year_df = year_df.reset_index()\n",
    "year_df.plot(x='Year',\n",
    "             y=['Global_Sales','NA_Sales','EU_Sales','JP_Sales','Other_Sales'],\n",
    "                    title = \"Yıllara Göre Satış Miktarları\",\n",
    "                    xlabel = \"Yıl\",\n",
    "                    ylabel= \"Satış\",\n",
    "             )\n",
    "\n",
    "year_df.plot(\n",
    "    x='Year',\n",
    "    y='Global_Sales',\n",
    "    kind='bar',\n",
    "    title = \"Yıllara Göre Küresel Satış Miktarları\",\n",
    "    xlabel = \"Yıl\",\n",
    "    ylabel= \"Küresel Satış\"\n",
    ")"
   ],
   "metadata": {
    "collapsed": false,
    "pycharm": {
     "name": "#%%\n"
    }
   }
  },
  {
   "cell_type": "code",
   "execution_count": null,
   "outputs": [],
   "source": [
    "# year - global sales\n",
    "year_df = df.groupby('Year').count()\n",
    "year_df = year_df.reset_index()\n",
    "\n",
    "year_df.plot(\n",
    "    x='Year',\n",
    "    y='Global_Sales',\n",
    "    kind='bar',\n",
    "    title = \"Yıllara Göre Oyun Verileri\",\n",
    "    xlabel = \"Yıl\",\n",
    "    ylabel= \"Oyun Verisi\"\n",
    ")\n"
   ],
   "metadata": {
    "collapsed": false,
    "pycharm": {
     "name": "#%%\n"
    }
   }
  },
  {
   "cell_type": "code",
   "execution_count": null,
   "outputs": [],
   "source": [
    "# publisher - Game count\n",
    "publisher_game_count = df.groupby('Publisher')['Rank'].count().reset_index()\n",
    "publisher_game_count = publisher_game_count.sort_values('Rank',ascending=False)\n",
    "publisher_game_count = publisher_game_count.head(20)\n",
    "publisher_game_count.plot(x='Publisher',\n",
    "                            y='Rank',\n",
    "                            kind='bar',\n",
    "                            title = \"Yayımcılara Göre Oyun Sayıları\",\n",
    "                            xlabel = \"Yayımcı\",\n",
    "                            ylabel= \"Oyun Sayısı\"\n",
    "                          )"
   ],
   "metadata": {
    "collapsed": false,
    "pycharm": {
     "name": "#%%\n"
    }
   }
  },
  {
   "cell_type": "code",
   "execution_count": null,
   "outputs": [],
   "source": [
    "# publisher - Global sales\n",
    "publisher_global_sales = df.groupby('Publisher').sum()\n",
    "publisher_global_sales = publisher_global_sales.reset_index()\n",
    "publisher_global_sales = publisher_global_sales.sort_values('Global_Sales',ascending=False)\n",
    "publisher_global_sales = publisher_global_sales.head(20)\n",
    "publisher_global_sales.plot(x='Publisher',\n",
    "                            y='Global_Sales',\n",
    "                            kind='bar',\n",
    "                            title = \"Yayımcılara Göre Küresel Oyun Satışları\",\n",
    "                            xlabel = \"Yayımcı\",\n",
    "                            ylabel= \"Küresel Satış Miktarı\"\n",
    "                            )\n"
   ],
   "metadata": {
    "collapsed": false,
    "pycharm": {
     "name": "#%%\n"
    }
   }
  },
  {
   "cell_type": "code",
   "execution_count": null,
   "outputs": [],
   "source": [
    "# platform - game count\n",
    "platform_game_count = df.groupby('Platform')['Rank'].count().reset_index()\n",
    "platform_game_count = platform_game_count.sort_values('Rank',ascending=False)\n",
    "platform_game_count = platform_game_count.head(20)\n",
    "platform_game_count.plot(x='Platform',\n",
    "                         y='Rank',\n",
    "                         kind='bar',\n",
    "                        title = \"Platformlara Göre Çıkan Oyun Sayıları\",\n",
    "                        xlabel = \"Platform\",\n",
    "                        ylabel= \"Oyun Sayısı\"\n",
    "                        )"
   ],
   "metadata": {
    "collapsed": false,
    "pycharm": {
     "name": "#%%\n"
    }
   }
  },
  {
   "cell_type": "code",
   "execution_count": null,
   "outputs": [],
   "source": [
    "# platform - global sales\n",
    "platform_global_sales = df.groupby('Platform').sum()\n",
    "platform_global_sales = platform_global_sales.reset_index()\n",
    "platform_global_sales = platform_global_sales.sort_values('Rank',ascending=False)\n",
    "platform_global_sales = platform_global_sales.head(20)\n",
    "platform_global_sales.plot(x='Platform',\n",
    "                           y='Rank',\n",
    "                           kind='bar',\n",
    "                            title = \"Platformlara Göre Küresel Oyun Satışları\",\n",
    "                            xlabel = \"Platform\",\n",
    "                            ylabel= \"Küresel Satış Miktarı\"\n",
    "                           )\n"
   ],
   "metadata": {
    "collapsed": false,
    "pycharm": {
     "name": "#%%\n"
    }
   }
  },
  {
   "cell_type": "code",
   "execution_count": null,
   "outputs": [],
   "source": [
    "df_corr = df[['NA_Sales', 'EU_Sales', 'JP_Sales', 'Other_Sales', 'Global_Sales']]\n",
    "df_corr.corr()"
   ],
   "metadata": {
    "collapsed": false,
    "pycharm": {
     "name": "#%%\n"
    }
   }
  },
  {
   "cell_type": "code",
   "execution_count": null,
   "outputs": [],
   "source": [
    "x = df[['JP_Sales']]\n",
    "y = df['Global_Sales']\n",
    "\n",
    "x_train,x_test,y_train,y_test = train_test_split(x,y,test_size=0.2)\n",
    "\n",
    "linear_regressor = LinearRegression()\n",
    "linear_regressor.fit(x_train, y_train)\n",
    "y_pred = linear_regressor.predict(x_test)\n",
    "\n",
    "plt.scatter(x_test, y_test)\n",
    "plt.plot(x_test, y_pred, color='red')\n",
    "\n",
    "r2_poly = r2_score(y_test,y_pred)\n",
    "r2_poly"
   ],
   "metadata": {
    "collapsed": false,
    "pycharm": {
     "name": "#%%\n"
    }
   }
  },
  {
   "cell_type": "code",
   "execution_count": null,
   "outputs": [],
   "source": [
    "x = df[['EU_Sales']]\n",
    "y = df['Global_Sales']\n",
    "\n",
    "x_train,x_test,y_train,y_test = train_test_split(x,y,test_size=0.2)\n",
    "\n",
    "linear_regressor = LinearRegression()\n",
    "linear_regressor.fit(x_train, y_train)\n",
    "y_pred = linear_regressor.predict(x_test)\n",
    "\n",
    "plt.scatter(x_test, y_test,s=10)\n",
    "plt.plot(x_test, y_pred, color='red')\n",
    "\n",
    "r2_poly = r2_score(y_test,y_pred)\n",
    "r2_poly"
   ],
   "metadata": {
    "collapsed": false,
    "pycharm": {
     "name": "#%%\n"
    }
   }
  },
  {
   "cell_type": "code",
   "execution_count": null,
   "outputs": [],
   "source": [
    "year_df = df.groupby('Year').mean()\n",
    "year_df = year_df.reset_index()\n",
    "\n",
    "x = year_df[['Year']]\n",
    "y = year_df['Global_Sales']\n",
    "\n",
    "linear_regressor = LinearRegression()\n",
    "linear_regressor.fit(x, y)\n",
    "y_pred = linear_regressor.predict(x)\n",
    "\n",
    "plt.scatter(x, y,s=10)\n",
    "plt.plot(x, y_pred, color='red')\n",
    "\n",
    "r2_poly = r2_score(y,y_pred)\n",
    "r2_poly"
   ],
   "metadata": {
    "collapsed": false,
    "pycharm": {
     "name": "#%%\n"
    }
   }
  },
  {
   "cell_type": "code",
   "execution_count": null,
   "outputs": [],
   "source": [
    "linear_regressor.predict([[2021]])"
   ],
   "metadata": {
    "collapsed": false,
    "pycharm": {
     "name": "#%%\n"
    }
   }
  },
  {
   "cell_type": "code",
   "execution_count": null,
   "outputs": [],
   "source": [
    "linear_regressor.predict([[2022]])"
   ],
   "metadata": {
    "collapsed": false,
    "pycharm": {
     "name": "#%%\n"
    }
   }
  },
  {
   "cell_type": "code",
   "execution_count": null,
   "outputs": [],
   "source": [
    "linear_regressor.predict([[2023]])"
   ],
   "metadata": {
    "collapsed": false,
    "pycharm": {
     "name": "#%%\n"
    }
   }
  },
  {
   "cell_type": "code",
   "execution_count": null,
   "outputs": [],
   "source": [
    "year_df = df.groupby('Year').mean()\n",
    "year_df = year_df.reset_index()\n",
    "\n",
    "x = year_df[['Year']]\n",
    "y = year_df['Global_Sales']\n",
    "\n",
    "linear_regressor = LinearRegression()\n",
    "linear_regressor.fit(x, y)\n",
    "y_pred = linear_regressor.predict(x)\n",
    "\n",
    "plt.scatter(x, y,s=10)\n",
    "plt.plot(x, y_pred, color='red')\n",
    "\n",
    "r2_poly = r2_score(y,y_pred)\n",
    "r2_poly"
   ],
   "metadata": {
    "collapsed": false,
    "pycharm": {
     "name": "#%%\n"
    }
   }
  },
  {
   "cell_type": "code",
   "execution_count": null,
   "outputs": [],
   "source": [
    "from sklearn.pipeline import Pipeline\n",
    "Input=[('polynomial',PolynomialFeatures(degree=3)),('modal',LinearRegression())]\n",
    "pipe=Pipeline(Input)\n",
    "pipe.fit(x,y)\n",
    "poly_pred=pipe.predict(x)\n",
    "\n",
    "plt.figure(figsize=(10,5))\n",
    "plt.scatter(x,y)\n",
    "plt.plot(x,poly_pred,color='g',label='Polynomial Regression')\n",
    "plt.xlabel('Predictor',fontsize=16)\n",
    "plt.ylabel('Target',fontsize=16)\n",
    "\n",
    "r2_poly = r2_score(y,poly_pred)\n",
    "r2_poly"
   ],
   "metadata": {
    "collapsed": false,
    "pycharm": {
     "name": "#%%\n"
    }
   }
  },
  {
   "cell_type": "code",
   "execution_count": null,
   "outputs": [],
   "source": [
    "pipe.predict([[2021]])"
   ],
   "metadata": {
    "collapsed": false,
    "pycharm": {
     "name": "#%%\n"
    }
   }
  },
  {
   "cell_type": "code",
   "execution_count": null,
   "outputs": [],
   "source": [
    "pipe.predict([[2022]])"
   ],
   "metadata": {
    "collapsed": false,
    "pycharm": {
     "name": "#%%\n"
    }
   }
  },
  {
   "cell_type": "code",
   "execution_count": null,
   "outputs": [],
   "source": [
    "pipe.predict([[2023]])"
   ],
   "metadata": {
    "collapsed": false,
    "pycharm": {
     "name": "#%%\n"
    }
   }
  }
 ],
 "metadata": {
  "kernelspec": {
   "display_name": "Python 3",
   "language": "python",
   "name": "python3"
  },
  "language_info": {
   "codemirror_mode": {
    "name": "ipython",
    "version": 2
   },
   "file_extension": ".py",
   "mimetype": "text/x-python",
   "name": "python",
   "nbconvert_exporter": "python",
   "pygments_lexer": "ipython2",
   "version": "3.7.9-final"
  }
 },
 "nbformat": 4,
 "nbformat_minor": 0
}